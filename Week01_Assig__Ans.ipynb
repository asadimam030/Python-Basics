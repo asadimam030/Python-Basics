{
  "nbformat": 4,
  "nbformat_minor": 0,
  "metadata": {
    "colab": {
      "provenance": []
    },
    "kernelspec": {
      "name": "python3",
      "display_name": "Python 3"
    },
    "language_info": {
      "name": "python"
    }
  },
  "cells": [
    {
      "cell_type": "markdown",
      "source": [
        "# Q1. What is Python, and why is it popular?\n",
        "  - Ans. Pyhon is a high level object oriented programming language, used in machine learning models, data analysis, in data bases and etc.\n",
        "  - Python is popular because it is :-\n",
        "\n",
        "*   Easy to raed and write the code  \n",
        "* High demand in industries\n",
        "* Large number of libraries\n",
        "* Versetile in nature\n",
        "* used in Machine learning\n",
        "* Portablity\n",
        "\n",
        "\n"
      ],
      "metadata": {
        "id": "vjMAW2Pg9xYV"
      }
    },
    {
      "cell_type": "markdown",
      "source": [
        "# Q2. What is an interpreter in Python?\n",
        "  - Ans. Interpreter in python is computer program that converts high level programe to machine level language line by line."
      ],
      "metadata": {
        "id": "mzGnkAKEAGRg"
      }
    },
    {
      "cell_type": "markdown",
      "source": [
        "# Q3. What are pre-defined keywords in Python?\n",
        "  - Pre-defined keywords in python are those keywords which are reserved words, these words have special meaning and can't be used as an identifer .\n",
        "  somre of the keywords are True, False, import, if, else, for, while, None, break, etc.\n"
      ],
      "metadata": {
        "id": "sN_31o7lFQiG"
      }
    },
    {
      "cell_type": "markdown",
      "source": [
        "# Q4. Can keywords be used as variable names?\n",
        "  - No, keywords can't be used as  variable name because they are reserverd words and have special meaning and if we use keyword as variable then it will give error."
      ],
      "metadata": {
        "id": "bSJpUrMFGMUQ"
      }
    },
    {
      "cell_type": "markdown",
      "source": [
        "# Q5. What is mutability in Python?\n",
        "  - obect / Container Whose state can be changed after they are created are called as mutablity.\n",
        "  - In Python List is mutable.\n",
        "  - eg. fruits = [\"apple\", \"Banana\", \"Kiwi\"]\n",
        "  - fruits[3] = [\"Papaya\"]\n",
        "  - fruits = [\"apple\", \"Banana\", \"Kiwi\", \"Papaya\"]"
      ],
      "metadata": {
        "id": "ECHvjsN3Gu3m"
      }
    },
    {
      "cell_type": "markdown",
      "source": [
        "# Q6. Why are lists mutable, but tuples are immutable?\n",
        "- In python list are created to add or remove the item in the future. list have dynamic modification which allows adding and removing of elements.\n",
        "- whereas tuples are intended fro collection of items that shold not change. once tuple is created in the program we can't change the items in the future."
      ],
      "metadata": {
        "id": "Cdx-rYqvIBCu"
      }
    },
    {
      "cell_type": "markdown",
      "source": [
        "# Q7. What is the difference between “==” and “is” operators in Python?\n",
        "  - \"==\" is an equal too operator which comes under comperison operator. Its functaionality is that it compares two differnt elements.\n",
        "  - eg.\n",
        "    - a = 3\n",
        "    - b = 3\n",
        "    - print(a == b)     \n",
        "    - Output\n",
        "    - True\n",
        "  - \"is\" operator is a type of operator which comes under identity operator. Its functionality is to compare the locality of two object.\n",
        "    - eg.\n",
        "      - a = 2\n",
        "      - b = a\n",
        "      - a is b\n",
        "      - output\n",
        "      - True"
      ],
      "metadata": {
        "id": "QhKA68zUJbPk"
      }
    },
    {
      "cell_type": "code",
      "source": [
        "# == operator\n",
        "a = 3\n",
        "b = 3\n",
        "print(a == b)"
      ],
      "metadata": {
        "colab": {
          "base_uri": "https://localhost:8080/"
        },
        "id": "QjKXenxPKd5Y",
        "outputId": "6ed689fc-1493-4c4a-cca1-f6799ac89ff3"
      },
      "execution_count": null,
      "outputs": [
        {
          "output_type": "stream",
          "name": "stdout",
          "text": [
            "True\n"
          ]
        }
      ]
    },
    {
      "cell_type": "code",
      "source": [
        "# is operator\n",
        "a = 2\n",
        "b = a\n",
        "a is b"
      ],
      "metadata": {
        "colab": {
          "base_uri": "https://localhost:8080/"
        },
        "id": "PA2lYGz1LtgD",
        "outputId": "b496115a-bd9b-424c-ccf7-2fdd8587e974"
      },
      "execution_count": null,
      "outputs": [
        {
          "output_type": "execute_result",
          "data": {
            "text/plain": [
              "True"
            ]
          },
          "metadata": {},
          "execution_count": 3
        }
      ]
    },
    {
      "cell_type": "markdown",
      "source": [
        "# Q8. What are logical operators in Python?\n",
        "  - Logical operators are used to combine conditional statement or expressions. They evaluate boolean values(True and False) and return the result based on the logic applied.\n",
        "  - Types of Logical operators\n",
        "\n",
        "1.   Logical AND operator\n",
        "2.   Logical OR operator\n",
        "3.   Logical NOT operator\n",
        "\n",
        "  - Logical AND operator\n",
        "  -Logical AND operator takes two input and returns True if both the values are True and returns false if any one of the value is False or both the values are False.\n",
        "    - eg.\n",
        "      - x = 5\n",
        "      - print(x > 3 and x < 10)  \n",
        "      - print(x > 3 and x > 10)\n",
        "      - Output\n",
        "      - True\n",
        "      - False\n",
        "  - Logical OR operator\n",
        "  - Logical OR Operator takes two input and returns output as if any one of the input or both inputs are True  then returns True and False if both the input are False.\n",
        "    - eg.\n",
        "      - x = 5\n",
        "      - print(x > 3 and x < 10)  \n",
        "      - print(x > 3 and x > 10)\n",
        "       Output\n",
        "      - True\n",
        "      - True\n",
        "  - Logical NOT operator\n",
        "  - Logical NOT operator takes only one input True or False and returns output as reverse of the state like if True is input then False and if False in input then returns true.\n",
        "    - eg.\n",
        "      - x = 5\n",
        "      - print(not(x > 3))  \n",
        "      - print(not(x < 3))\n",
        "      - Output\n",
        "      - False\n",
        "      - True\n",
        "\n",
        "\n",
        "\n",
        "\n",
        "\n"
      ],
      "metadata": {
        "id": "SV0cHityLzIB"
      }
    },
    {
      "cell_type": "code",
      "source": [
        "#Logical AND operator\n",
        "x = 5\n",
        "print(x > 3 and x < 10)\n",
        "print(x > 3 and x > 10)"
      ],
      "metadata": {
        "colab": {
          "base_uri": "https://localhost:8080/"
        },
        "id": "rhsyGlGTQBkH",
        "outputId": "e6e6b3e3-6c45-4d0c-d3a1-e28891ba4bb9"
      },
      "execution_count": null,
      "outputs": [
        {
          "output_type": "stream",
          "name": "stdout",
          "text": [
            "True\n",
            "False\n"
          ]
        }
      ]
    },
    {
      "cell_type": "code",
      "source": [
        "# Logical OR operator\n",
        "x = 5\n",
        "print(x > 3 or x < 10)\n",
        "print(x > 3 or x > 10)\n"
      ],
      "metadata": {
        "colab": {
          "base_uri": "https://localhost:8080/"
        },
        "id": "k3utyqlYQGwx",
        "outputId": "88d4d1ce-802b-43e9-b26b-7622bb67d71c"
      },
      "execution_count": null,
      "outputs": [
        {
          "output_type": "stream",
          "name": "stdout",
          "text": [
            "True\n",
            "True\n"
          ]
        }
      ]
    },
    {
      "cell_type": "code",
      "source": [
        "# Logical NOT operator\n",
        "x = 5\n",
        "print(not(x > 3))\n",
        "print(not(x < 3))"
      ],
      "metadata": {
        "colab": {
          "base_uri": "https://localhost:8080/"
        },
        "id": "q18FDyQvQQ-O",
        "outputId": "8e8339cb-9445-4090-b6df-b642ad626909"
      },
      "execution_count": null,
      "outputs": [
        {
          "output_type": "stream",
          "name": "stdout",
          "text": [
            "False\n",
            "True\n"
          ]
        }
      ]
    },
    {
      "cell_type": "markdown",
      "source": [
        "# Q9. What is type casting in Python?\n",
        "  - Ans-  Type conversion in python is a method in which we convert elements from one data type to another data type.\n",
        "  - eg.\n",
        "  - a = \"5\"\n",
        "  - b = 6\n",
        "  - print(a + b)\n",
        "  -Output\n",
        "  -Error\n",
        "  - this will give error because one variable is string and another is integer, adding string to integer is not possble, therefore we need to convrt string to integer\n",
        "  - a = int(\"5\")\n",
        "  - b = 6\n",
        "  print(a + b)\n",
        "  - Output\n",
        "  - 11\n"
      ],
      "metadata": {
        "id": "B3qW2CGJRwaX"
      }
    },
    {
      "cell_type": "code",
      "source": [
        "#Type conversion\n",
        "a = \"5\"\n",
        "b = 6\n",
        "print(a + b)"
      ],
      "metadata": {
        "colab": {
          "base_uri": "https://localhost:8080/",
          "height": 176
        },
        "id": "6m-ehSDISB_J",
        "outputId": "8756bf60-70fb-48d4-b610-aceabd962ce1"
      },
      "execution_count": null,
      "outputs": [
        {
          "output_type": "error",
          "ename": "TypeError",
          "evalue": "can only concatenate str (not \"int\") to str",
          "traceback": [
            "\u001b[0;31m---------------------------------------------------------------------------\u001b[0m",
            "\u001b[0;31mTypeError\u001b[0m                                 Traceback (most recent call last)",
            "\u001b[0;32m<ipython-input-1-d6e1ca03a02c>\u001b[0m in \u001b[0;36m<cell line: 4>\u001b[0;34m()\u001b[0m\n\u001b[1;32m      2\u001b[0m \u001b[0ma\u001b[0m \u001b[0;34m=\u001b[0m \u001b[0;34m\"5\"\u001b[0m\u001b[0;34m\u001b[0m\u001b[0;34m\u001b[0m\u001b[0m\n\u001b[1;32m      3\u001b[0m \u001b[0mb\u001b[0m \u001b[0;34m=\u001b[0m \u001b[0;36m6\u001b[0m\u001b[0;34m\u001b[0m\u001b[0;34m\u001b[0m\u001b[0m\n\u001b[0;32m----> 4\u001b[0;31m \u001b[0mprint\u001b[0m\u001b[0;34m(\u001b[0m\u001b[0ma\u001b[0m \u001b[0;34m+\u001b[0m \u001b[0mb\u001b[0m\u001b[0;34m)\u001b[0m\u001b[0;34m\u001b[0m\u001b[0;34m\u001b[0m\u001b[0m\n\u001b[0m",
            "\u001b[0;31mTypeError\u001b[0m: can only concatenate str (not \"int\") to str"
          ]
        }
      ]
    },
    {
      "cell_type": "code",
      "source": [
        "a = int(\"5\")\n",
        "b = 6\n",
        "print(a + b)"
      ],
      "metadata": {
        "colab": {
          "base_uri": "https://localhost:8080/"
        },
        "id": "WEn7UWp7SGJ_",
        "outputId": "1f4107e1-940d-4cdd-8feb-651974e2fedf"
      },
      "execution_count": null,
      "outputs": [
        {
          "output_type": "stream",
          "name": "stdout",
          "text": [
            "11\n"
          ]
        }
      ]
    },
    {
      "cell_type": "markdown",
      "source": [
        "# Q10. What is the difference between implicit and explicit type casting?\n",
        "  - Ans - Explict type casting\n",
        "  - Explicit typecasting is converting one data type to another manually using inbuilt function. here programmer must have to specify the type of data.\n",
        "  - eg.\n",
        "  - a = int(\"5\")\n",
        "  - type(a)\n",
        "  - Output\n",
        "  - int\n",
        "  - Implicit type casting\n",
        "  - Implicit type casting is a type of type casting where data conversion occurs automaticaaly. There is no need of programmer to specify the type of data.\n",
        "  - eg.\n",
        "  - a = 5\n",
        "  - type(a)\n",
        "  - Output\n",
        "  - int"
      ],
      "metadata": {
        "id": "jN0qhLxxSKhL"
      }
    },
    {
      "cell_type": "code",
      "source": [
        "# Explicit type casting\n",
        "a = int(\"5\")\n",
        "type(a)"
      ],
      "metadata": {
        "colab": {
          "base_uri": "https://localhost:8080/"
        },
        "id": "55aeU16EU560",
        "outputId": "74ba548a-4304-4dea-a6e8-fc2fc509e397"
      },
      "execution_count": null,
      "outputs": [
        {
          "output_type": "execute_result",
          "data": {
            "text/plain": [
              "int"
            ]
          },
          "metadata": {},
          "execution_count": 4
        }
      ]
    },
    {
      "cell_type": "code",
      "source": [
        "#Implicit type casting\n",
        "a = 5\n",
        "type(a)"
      ],
      "metadata": {
        "colab": {
          "base_uri": "https://localhost:8080/"
        },
        "id": "9Mn_DuzlVCby",
        "outputId": "0ebae872-8fa1-4d29-85b4-c75c19d164f1"
      },
      "execution_count": null,
      "outputs": [
        {
          "output_type": "execute_result",
          "data": {
            "text/plain": [
              "int"
            ]
          },
          "metadata": {},
          "execution_count": 5
        }
      ]
    },
    {
      "cell_type": "markdown",
      "source": [
        "# Q11. What is the purpose of conditional statements in Python?\n",
        "  - Ans- Conditional statements helps us to code on decision based problems.\n",
        "  - eg.- If there is sunny then i will play game else i will watch T.V.\n",
        "  - Type of Conditional statement:-\n",
        "1. if\n",
        "  - if the simple code of block is to be performed if the condition holds then the if statemenet is use.\n",
        "  \n",
        "  - Syntax -\n",
        "  - if condition: (True)\n",
        "    - Blockof code will be executed\n",
        "\n",
        "  - eg. -\n",
        "  - a = 5\n",
        "  - if (a > 1):\n",
        "  -     print(\"a is greater then one\")\n",
        "\n",
        "2. if else\n",
        " - if the condion if condition is false then else block will be executed.\n",
        " - Syntax\n",
        " - a = 5\n",
        " - if (a > 6):\n",
        " - print(\"this is greater then 6\")\n",
        " - else:\n",
        " - print(\"this is samller then 6\")\n",
        "\n",
        "3. if elif\n",
        "  - if the if condition is true, then if block will ecute\n",
        "  - elif - if the if block if false then elif block will be executed.\n",
        "  - else - if all the conditon fails then else block is executed.\n",
        "  - Syntax\n",
        "  - if (condition):\n",
        "  -     #BLock of code if condition is true\n",
        "  - elif(condition):\n",
        "  -     #BLock of code elif condition is true\n",
        "  - else:\n",
        "  -     #BLock of code if none of the above condition is true.\n",
        "  - eg.\n",
        "  - age = int()\n",
        "  - if()\n"
      ],
      "metadata": {
        "id": "P7itr5umVIx0"
      }
    },
    {
      "cell_type": "code",
      "source": [
        "#example of if elif else\n",
        "age = int(input(\"what is your age?\"))\n",
        "if(age < 18 ):\n",
        "  print(\"you are under age, you can't drive the car\")\n",
        "elif(18 <= age or age <= 65):\n",
        "  print(\"You are eligile to drive the car.\")\n",
        "else:\n",
        "  print(\"you can drive but need special driving licence\")\n"
      ],
      "metadata": {
        "colab": {
          "base_uri": "https://localhost:8080/"
        },
        "id": "gH0dA75GaiFS",
        "outputId": "c086ec1e-2d48-4684-df20-cc60c9c798bd"
      },
      "execution_count": null,
      "outputs": [
        {
          "output_type": "stream",
          "name": "stdout",
          "text": [
            "what is your age?66\n",
            "You are eligile to drive the car.\n"
          ]
        }
      ]
    },
    {
      "cell_type": "markdown",
      "source": [
        "# Q12. How does the elif statement work?\n",
        "  - Ans- Syntax\n",
        "        if(condition):\n",
        "          (statement)\n",
        "        elif(condition):\n",
        "          (statement)\n",
        "  - if the previous condition is not true then elif condition is checked.\n",
        "  - This condition applies when there is more the one condition to run\n",
        "    - eg.\n",
        "    "
      ],
      "metadata": {
        "id": "JggljCi1bgWu"
      }
    },
    {
      "cell_type": "code",
      "source": [
        "age = int(input(\"what is your age?\"))\n",
        "if(age < 18 ):\n",
        "  print(\"you are under age, you can't drive the car\")\n",
        "elif(18 <= age or age <= 65):\n",
        "  print(\"You are eligile to drive the car.\")\n",
        "else:\n",
        "  print(\"you can drive but need special driving licence\")"
      ],
      "metadata": {
        "colab": {
          "base_uri": "https://localhost:8080/"
        },
        "id": "ZTi5fpHjIfhN",
        "outputId": "f2b2236f-a70b-4ddd-9f37-351479d3aa5a"
      },
      "execution_count": null,
      "outputs": [
        {
          "output_type": "stream",
          "name": "stdout",
          "text": [
            "what is your age?1\n",
            "you are under age, you can't drive the car\n"
          ]
        }
      ]
    },
    {
      "cell_type": "markdown",
      "source": [
        "# Q13. What is the difference between for and while loops?\n",
        "  - Ans.\n",
        "- For Loop:\n",
        "    - A for loop is typically used when you know in advance how many times you need to execute a statement or a block of code.\n",
        "    - It is commonly used for iterating over a sequence (like a list, tuple, string, or range).\n",
        "    - The loop automatically handles the initialization, condition-checking, and iteration.\n",
        "  - Syntax:\n",
        "  - for variable in sequence:\n",
        "    - Code to execute\n",
        "\n",
        "\n",
        "    \n",
        "  - Example:\n",
        "     - for i in range(5):\n",
        "          - print(i)\n",
        "- While Loop:\n",
        "  - A while loop is used when you want to repeat a block of code as long as a specific condition is true.\n",
        "  - The condition is checked before each iteration, and the loop continues to run as long as the condition remains true. If the condition becomes false, the loop stops.\n",
        "  - The number of iterations is not fixed in advance, and it can vary depending on the condition.\n",
        "\n",
        "  - Syntax:\n",
        "  - while condition:\n",
        "    -  Code to execute\n",
        "\n",
        "- Example:\n",
        "- i = 0\n",
        "- while i < 5:\n",
        "   - print(i)\n",
        "   - i += 1"
      ],
      "metadata": {
        "id": "B9IhteT93FRe"
      }
    },
    {
      "cell_type": "markdown",
      "source": [
        "# Q14. Describe a scenario where a while loop is more suitable than a for loop."
      ],
      "metadata": {
        "id": "xRe8Iron3GGi"
      }
    },
    {
      "cell_type": "markdown",
      "source": [
        "  - A while loop is more suitable than a for loop in situations where the number of iterations is not known in advance and the loop needs to continue until a specific condition is met. One common scenario is when you're waiting for a certain user input or a particular event to occur, and you don't know how many iterations it will take."
      ],
      "metadata": {
        "id": "VCyQ9ngp3GRR"
      }
    },
    {
      "cell_type": "markdown",
      "source": [
        "# Practicle Questions\n"
      ],
      "metadata": {
        "id": "m33PUXEr3KkY"
      }
    },
    {
      "cell_type": "markdown",
      "source": [
        "# Q1. Write a Python program to print \"Hello, World!\""
      ],
      "metadata": {
        "id": "PSdDBUkI3RG3"
      }
    },
    {
      "cell_type": "code",
      "source": [
        "print(\"Hello, World!\")"
      ],
      "metadata": {
        "colab": {
          "base_uri": "https://localhost:8080/"
        },
        "id": "Zw_oLxW13Wg3",
        "outputId": "317bdfe4-2a1c-4cc8-95c8-eb7527721baa"
      },
      "execution_count": null,
      "outputs": [
        {
          "output_type": "stream",
          "name": "stdout",
          "text": [
            "Hello, World!\n"
          ]
        }
      ]
    },
    {
      "cell_type": "markdown",
      "source": [
        "#Q2. Write a Python program that displays your name and age?"
      ],
      "metadata": {
        "id": "gRCaegdg3ZzN"
      }
    },
    {
      "cell_type": "code",
      "source": [
        "name = input(\"What is your name? \")\n",
        "age = input(\"What is your age? \")\n",
        "print(f\"My name is {name}, and I am {age} years old.\")\n"
      ],
      "metadata": {
        "colab": {
          "base_uri": "https://localhost:8080/"
        },
        "id": "uZk4kw8F3eu8",
        "outputId": "821756a7-68b9-4736-cb90-ed7e95a65b75"
      },
      "execution_count": null,
      "outputs": [
        {
          "output_type": "stream",
          "name": "stdout",
          "text": [
            "What is your name? asad\n",
            "What is your age? 23\n",
            "My name is asad, and I am 23 years old.\n"
          ]
        }
      ]
    },
    {
      "cell_type": "markdown",
      "source": [
        "# Q3. Write code to print all the pre-defined keywords in Python using the keyword library?"
      ],
      "metadata": {
        "id": "tvYuPla-3tZy"
      }
    },
    {
      "cell_type": "code",
      "source": [
        "help('keywords')"
      ],
      "metadata": {
        "colab": {
          "base_uri": "https://localhost:8080/"
        },
        "id": "yZeYG7aD4rqw",
        "outputId": "849e5914-c536-431f-c054-c5483abb8ba7"
      },
      "execution_count": null,
      "outputs": [
        {
          "output_type": "stream",
          "name": "stdout",
          "text": [
            "\n",
            "Here is a list of the Python keywords.  Enter any keyword to get more help.\n",
            "\n",
            "False               class               from                or\n",
            "None                continue            global              pass\n",
            "True                def                 if                  raise\n",
            "and                 del                 import              return\n",
            "as                  elif                in                  try\n",
            "assert              else                is                  while\n",
            "async               except              lambda              with\n",
            "await               finally             nonlocal            yield\n",
            "break               for                 not                 \n",
            "\n"
          ]
        }
      ]
    },
    {
      "cell_type": "markdown",
      "source": [
        "# Q4. Write a program that checks if a given word is a Python keyword?"
      ],
      "metadata": {
        "id": "c3YxKY2Q52L-"
      }
    },
    {
      "cell_type": "code",
      "source": [
        "keyword = [\"False\", \"class\" , \"from\", \"or\", \"None\"   ,\"continue\"  ,\"global\" , \"passTrue\", \"def\", \"if\", \"raise\", \"and\",  \"del\", \"import\", \"return\", \"elif\",\"in\" , \"try\", \"assert\", \"else\" , \"is\", \"while\",\" async\" , \"except\", \"lambda\", \"with\", \"await\" , \"finally\", \"nonlocal\", \"yield\", \"break\", \"for\", \"not\"]\n",
        "word = input(\"Enter the word: \")\n",
        "if(word in keyword):\n",
        "  print(\"This is a keyword\")\n",
        "else:\n",
        "  print(\"This is not a keyword\")"
      ],
      "metadata": {
        "colab": {
          "base_uri": "https://localhost:8080/"
        },
        "id": "kNUjfkr16FDZ",
        "outputId": "6ccef1b4-d9d2-46e3-c96a-5a64fb837135"
      },
      "execution_count": null,
      "outputs": [
        {
          "output_type": "stream",
          "name": "stdout",
          "text": [
            "Enter the word: global\n",
            "This is a keyword\n"
          ]
        }
      ]
    },
    {
      "cell_type": "markdown",
      "source": [
        "# Q5. Create a list and tuple in Python, and demonstrate how attempting to change an element works differently for each."
      ],
      "metadata": {
        "id": "NDm2MGxv9CXR"
      }
    },
    {
      "cell_type": "code",
      "source": [
        "fruits = [\"mango\", \"orange\", \"Papaya\"]\n",
        "print(fruits)\n",
        "fruits[0] = \"kiwi\"  #deleting mango and updating with kiwi\n",
        "print(fruits)\n",
        "type(fruits)"
      ],
      "metadata": {
        "colab": {
          "base_uri": "https://localhost:8080/"
        },
        "id": "RuVZIrKYABGz",
        "outputId": "343bc0d6-2d7a-45d2-9ead-8629dbec8f84"
      },
      "execution_count": null,
      "outputs": [
        {
          "output_type": "stream",
          "name": "stdout",
          "text": [
            "['mango', 'orange', 'Papaya']\n",
            "['kiwi', 'orange', 'Papaya']\n"
          ]
        },
        {
          "output_type": "execute_result",
          "data": {
            "text/plain": [
              "list"
            ]
          },
          "metadata": {},
          "execution_count": 25
        }
      ]
    },
    {
      "cell_type": "code",
      "source": [
        "fruits = (\"mango\", \"orange\", \"Papaya\")\n",
        "fruits(0) = \"kiwi\"\n",
        "print(fruits)\n",
        "type(fruits)"
      ],
      "metadata": {
        "colab": {
          "base_uri": "https://localhost:8080/",
          "height": 106
        },
        "id": "_1PEpfK9ARbA",
        "outputId": "d1f3562f-bcb9-4d08-874a-fb0d722eb831"
      },
      "execution_count": null,
      "outputs": [
        {
          "output_type": "error",
          "ename": "SyntaxError",
          "evalue": "cannot assign to function call here. Maybe you meant '==' instead of '='? (<ipython-input-26-142dda63ecd5>, line 2)",
          "traceback": [
            "\u001b[0;36m  File \u001b[0;32m\"<ipython-input-26-142dda63ecd5>\"\u001b[0;36m, line \u001b[0;32m2\u001b[0m\n\u001b[0;31m    fruits(0) = \"kiwi\"\u001b[0m\n\u001b[0m    ^\u001b[0m\n\u001b[0;31mSyntaxError\u001b[0m\u001b[0;31m:\u001b[0m cannot assign to function call here. Maybe you meant '==' instead of '='?\n"
          ]
        }
      ]
    },
    {
      "cell_type": "markdown",
      "source": [
        "# Q6. Write a function to demonstrate the behavior of mutable and immutable arguments.\n"
      ],
      "metadata": {
        "id": "E9K008ICAh8U"
      }
    },
    {
      "cell_type": "code",
      "source": [
        "#mutable\n",
        "fruits = [\"mango\", \"orange\", \"Papaya\"]\n",
        "print(fruits)\n",
        "fruits[0] = \"kiwi\"  #deleting mango and updating with kiwi\n",
        "print(fruits)\n",
        "type(fruits)"
      ],
      "metadata": {
        "colab": {
          "base_uri": "https://localhost:8080/"
        },
        "id": "pA4o2AOxBMUq",
        "outputId": "4667a549-02df-4231-a99b-d8c5d62d0bbe"
      },
      "execution_count": null,
      "outputs": [
        {
          "output_type": "stream",
          "name": "stdout",
          "text": [
            "['mango', 'orange', 'Papaya']\n",
            "['kiwi', 'orange', 'Papaya']\n"
          ]
        },
        {
          "output_type": "execute_result",
          "data": {
            "text/plain": [
              "list"
            ]
          },
          "metadata": {},
          "execution_count": 27
        }
      ]
    },
    {
      "cell_type": "code",
      "source": [
        "#imutable\n",
        "fruits = (\"mango\", \"orange\", \"Papaya\")\n",
        "fruits(0) = \"kiwi\"\n",
        "print(fruits)\n",
        "type(fruits)"
      ],
      "metadata": {
        "colab": {
          "base_uri": "https://localhost:8080/",
          "height": 106
        },
        "id": "fD86PZ80BVjt",
        "outputId": "1cb9c17f-3d7e-4735-dcca-c3478e59106c"
      },
      "execution_count": null,
      "outputs": [
        {
          "output_type": "error",
          "ename": "SyntaxError",
          "evalue": "cannot assign to function call here. Maybe you meant '==' instead of '='? (<ipython-input-28-8ca6f93abadd>, line 3)",
          "traceback": [
            "\u001b[0;36m  File \u001b[0;32m\"<ipython-input-28-8ca6f93abadd>\"\u001b[0;36m, line \u001b[0;32m3\u001b[0m\n\u001b[0;31m    fruits(0) = \"kiwi\"\u001b[0m\n\u001b[0m    ^\u001b[0m\n\u001b[0;31mSyntaxError\u001b[0m\u001b[0;31m:\u001b[0m cannot assign to function call here. Maybe you meant '==' instead of '='?\n"
          ]
        }
      ]
    },
    {
      "cell_type": "markdown",
      "source": [
        "# Q7. Write a function to demonstrate the behavior of mutable and immutable arguments?\n",
        "\n",
        " - Same Question as Q6"
      ],
      "metadata": {
        "id": "2FMgmTbkBZV5"
      }
    },
    {
      "cell_type": "markdown",
      "source": [
        "# Q8. Write a program to demonstrate the use of logical operators?"
      ],
      "metadata": {
        "id": "SNv9UEoGBzO2"
      }
    },
    {
      "cell_type": "code",
      "source": [
        "age = int(input(\"Enter your age? \"))\n",
        "licence = input(\"Do you have licence? (yes/no): \") == \"yes\"\n",
        "car = input(\"Do you have a car? (yes/no): \") == \"yes\"\n",
        "\n",
        "if (age >= 18 and licence and car ):\n",
        "  print(\"you can take part in the race.\")\n",
        "else:\n",
        "  print(\"you cant take part in race\")\n",
        "\n",
        "if(age >= 18 or licence):\n",
        "  print(\"you can take part in race, but you need to give rent for car\")\n",
        "else:\n",
        "  print(\"you cant take part in race\")\n",
        "\n",
        "if(not age <= 18 ):\n",
        "  print(\"you can take part in race, but you need to give rent for car and need to arrange the licence\")\n",
        "else:\n",
        "   print(\"you cant take part in race\")"
      ],
      "metadata": {
        "colab": {
          "base_uri": "https://localhost:8080/"
        },
        "id": "S1lFSSiPB6NP",
        "outputId": "5531ad28-7360-4003-bb53-c1e7cf506821"
      },
      "execution_count": null,
      "outputs": [
        {
          "output_type": "stream",
          "name": "stdout",
          "text": [
            "Enter your age? 26\n",
            "Do you have licence? (yes/no): no\n",
            "Do you have a car? (yes/no): no\n",
            "you cant take part in race\n",
            "you can take part in race, but you need to give rent for car\n",
            "you can take part in race, but you need to give rent for car and need to arrange the licence\n"
          ]
        }
      ]
    },
    {
      "cell_type": "markdown",
      "source": [
        "# Q9. Write a Python program to convert user input from string to integer, float, and boolean types?"
      ],
      "metadata": {
        "id": "6kS9RAvIE_L4"
      }
    },
    {
      "cell_type": "code",
      "source": [
        "\n",
        "a = input(\"enter the string: \")\n",
        "b = int(a)\n",
        "print(b)\n",
        "\n",
        "c = float(a)\n",
        "print(c)\n",
        "\n",
        "d = bool(a)\n",
        "print(d)\n"
      ],
      "metadata": {
        "id": "fJlnWzQXG2d8",
        "colab": {
          "base_uri": "https://localhost:8080/"
        },
        "outputId": "36725227-41b7-4263-8ba4-0901b62be7a8"
      },
      "execution_count": null,
      "outputs": [
        {
          "output_type": "stream",
          "name": "stdout",
          "text": [
            "enter the string: 10\n",
            "10\n",
            "10.0\n",
            "True\n"
          ]
        },
        {
          "output_type": "execute_result",
          "data": {
            "text/plain": [
              "bool"
            ]
          },
          "metadata": {},
          "execution_count": 10
        }
      ]
    },
    {
      "cell_type": "markdown",
      "source": [
        "# Q10. Write code to demonstrate type casting with list elements?"
      ],
      "metadata": {
        "id": "ioo4tckkHYRY"
      }
    },
    {
      "cell_type": "code",
      "source": [
        "animal = [\"Lion\", \"Tiger\", \"Elephant\"]\n",
        "animal[2] = \"Fox\"\n",
        "animal"
      ],
      "metadata": {
        "id": "eRqq17mYJPBQ",
        "colab": {
          "base_uri": "https://localhost:8080/"
        },
        "outputId": "3d02c513-d574-4ad0-81de-4a61c51b540f"
      },
      "execution_count": null,
      "outputs": [
        {
          "output_type": "execute_result",
          "data": {
            "text/plain": [
              "['Lion', 'Tiger', 'Fox']"
            ]
          },
          "metadata": {},
          "execution_count": 13
        }
      ]
    },
    {
      "cell_type": "markdown",
      "source": [
        "# Q11. Write a program that checks if a number is positive, negative, or zero?"
      ],
      "metadata": {
        "id": "skCq5xWGJPcZ"
      }
    },
    {
      "cell_type": "code",
      "source": [
        "number = int(input(\"Enter a number (eg. -6, 0, 6)\"))\n",
        "if (number > 0):\n",
        "  print(f\"{number} is positive number\")\n",
        "elif(number < 0):\n",
        "  print(f\"{number} is negative number\")\n",
        "elif(number == 0):\n",
        "  print(f\"{number} is zero \")\n"
      ],
      "metadata": {
        "id": "qjs5-5JFJPlg",
        "colab": {
          "base_uri": "https://localhost:8080/"
        },
        "outputId": "343902b2-2931-46ae-b496-f7b3315f2623"
      },
      "execution_count": null,
      "outputs": [
        {
          "output_type": "stream",
          "name": "stdout",
          "text": [
            "Enter a number (eg. -6, 0, 6)0\n",
            "0 is zero \n"
          ]
        }
      ]
    },
    {
      "cell_type": "markdown",
      "source": [
        "# Q12. Write a for loop to print numbers from 1 to 100?"
      ],
      "metadata": {
        "id": "YGzpT-sdJQYH"
      }
    },
    {
      "cell_type": "code",
      "source": [
        "for i in range(1, 101 ):\n",
        "  print(i)\n",
        "  i = i + 1"
      ],
      "metadata": {
        "id": "An53DO-5JQgH",
        "colab": {
          "base_uri": "https://localhost:8080/"
        },
        "outputId": "3655c497-0415-417d-f48b-50afc2da1214"
      },
      "execution_count": null,
      "outputs": [
        {
          "output_type": "stream",
          "name": "stdout",
          "text": [
            "1\n",
            "2\n",
            "3\n",
            "4\n",
            "5\n",
            "6\n",
            "7\n",
            "8\n",
            "9\n",
            "10\n",
            "11\n",
            "12\n",
            "13\n",
            "14\n",
            "15\n",
            "16\n",
            "17\n",
            "18\n",
            "19\n",
            "20\n",
            "21\n",
            "22\n",
            "23\n",
            "24\n",
            "25\n",
            "26\n",
            "27\n",
            "28\n",
            "29\n",
            "30\n",
            "31\n",
            "32\n",
            "33\n",
            "34\n",
            "35\n",
            "36\n",
            "37\n",
            "38\n",
            "39\n",
            "40\n",
            "41\n",
            "42\n",
            "43\n",
            "44\n",
            "45\n",
            "46\n",
            "47\n",
            "48\n",
            "49\n",
            "50\n",
            "51\n",
            "52\n",
            "53\n",
            "54\n",
            "55\n",
            "56\n",
            "57\n",
            "58\n",
            "59\n",
            "60\n",
            "61\n",
            "62\n",
            "63\n",
            "64\n",
            "65\n",
            "66\n",
            "67\n",
            "68\n",
            "69\n",
            "70\n",
            "71\n",
            "72\n",
            "73\n",
            "74\n",
            "75\n",
            "76\n",
            "77\n",
            "78\n",
            "79\n",
            "80\n",
            "81\n",
            "82\n",
            "83\n",
            "84\n",
            "85\n",
            "86\n",
            "87\n",
            "88\n",
            "89\n",
            "90\n",
            "91\n",
            "92\n",
            "93\n",
            "94\n",
            "95\n",
            "96\n",
            "97\n",
            "98\n",
            "99\n",
            "100\n"
          ]
        }
      ]
    },
    {
      "cell_type": "markdown",
      "source": [
        "# Q13. Write a Python program to find the sum of all even numbers between 1 and 500?"
      ],
      "metadata": {
        "id": "bkrPm2U0JRBi"
      }
    },
    {
      "cell_type": "code",
      "source": [
        "evenSum = 0\n",
        "for number in range(1, 501):\n",
        "  if(number % 2 == 0):\n",
        "    evenSum += number\n",
        "print(\"The sum of even  number b/w 1 and 500 is: \",evenSum)"
      ],
      "metadata": {
        "id": "DVyUvJRQJmOs",
        "colab": {
          "base_uri": "https://localhost:8080/"
        },
        "outputId": "7b883f95-35be-4e32-837c-45b0da6a652e"
      },
      "execution_count": null,
      "outputs": [
        {
          "output_type": "stream",
          "name": "stdout",
          "text": [
            "The sum of even  number b/w 1 and 500 is:  62750\n"
          ]
        }
      ]
    },
    {
      "cell_type": "markdown",
      "source": [
        "# Q14. Write a program to reverse a string using a while loop?"
      ],
      "metadata": {
        "id": "--ItgsoYJmjz"
      }
    },
    {
      "cell_type": "code",
      "source": [
        "string_value = input(\"Enter the string\")\n",
        "reverse_string = \"\"\n",
        "for char in string_value[::-1]:\n",
        "  reverse_string = reverse_string + char\n",
        "print(\"Orignal string: \", string_value)\n",
        "print(\"Reversed string: \", reverse_string)\n"
      ],
      "metadata": {
        "id": "kEZ3trIDJnE8",
        "colab": {
          "base_uri": "https://localhost:8080/"
        },
        "outputId": "da56c966-94e9-4761-b08a-f26f46805288"
      },
      "execution_count": null,
      "outputs": [
        {
          "output_type": "stream",
          "name": "stdout",
          "text": [
            "Enter the stringasad\n",
            "Orignal string:  asad\n",
            "Reversed string:  dasa\n"
          ]
        }
      ]
    },
    {
      "cell_type": "markdown",
      "source": [
        "# Q15. Write a Python program to calculate the factorial of a number provided by the user using a while loop.\n"
      ],
      "metadata": {
        "id": "Zpq_oJzFJnRv"
      }
    },
    {
      "cell_type": "code",
      "source": [
        "number = int(input(\"Enter the number: \"))\n",
        "result = 1\n",
        "for i in range (1, number + 1):\n",
        "  result *= i\n",
        "print(f\"factorial of {number} is {result}\")"
      ],
      "metadata": {
        "id": "giCI5m-hJncR",
        "colab": {
          "base_uri": "https://localhost:8080/"
        },
        "outputId": "01e4d530-e822-42f3-bfc0-50a95b4b6156"
      },
      "execution_count": null,
      "outputs": [
        {
          "output_type": "stream",
          "name": "stdout",
          "text": [
            "Enter the number: 5\n",
            "factorial of 5 is 120\n"
          ]
        }
      ]
    },
    {
      "cell_type": "code",
      "source": [],
      "metadata": {
        "id": "EN3Q67uPJnu4"
      },
      "execution_count": null,
      "outputs": []
    }
  ]
}